{
 "cells": [
  {
   "cell_type": "code",
   "execution_count": 6,
   "metadata": {},
   "outputs": [],
   "source": [
    "import os\n",
    "import openai\n",
    "from azure.identity import DefaultAzureCredential\n",
    "from azure.search.documents import SearchClient\n",
    "from azure.search.documents.models import QueryType\n",
    "\n",
    "openai.api_type = \"azure\"\n",
    "openai.api_base = \"https://cog-oaxatpknic6wq.openai.azure.com/\"\n",
    "openai.api_version = \"2023-03-15-preview\"\n",
    "openai.api_key = \"a4afc38d3a6246d3b855a8adcca0d0f1\"\n",
    "\n",
    "endpoint = \"https://gptkb-oaxatpknic6wq.search.windows.net\"\n",
    "index_name = \"gptkbindex-oaxatpknic6wq\"\n",
    "\n",
    "model_name = \"gpt-35-turbo\"\n",
    "deployment_name =\"chat\"\n",
    "prompt = \"what is the capital of Germany?\"\n",
    "\n",
    "KB_FIELDS_CONTENT = os.environ.get(\"KB_FIELDS_CONTENT\") or \"content\"\n",
    "KB_FIELDS_CATEGORY = os.environ.get(\"KB_FIELDS_CATEGORY\") or \"category\"\n",
    "KB_FIELDS_SOURCEPAGE = os.environ.get(\"KB_FIELDS_SOURCEPAGE\") or \"sourcepage\"\n",
    "\n",
    "\n",
    "azure_credential = DefaultAzureCredential()\n",
    "\n",
    "search_client = SearchClient(endpoint, index_name, credential=azure_credential) "
   ]
  },
  {
   "cell_type": "code",
   "execution_count": 7,
   "metadata": {},
   "outputs": [],
   "source": [
    "# ChatGPT uses a particular set of tokens to indicate turns in conversations\n",
    "prompt_prefix = \"\"\"<|im_start|>system\n",
    "Assistant helps the company employees with their healthcare plan questions and employee handbook questions. \n",
    "Answer ONLY with the facts listed in the list of sources below. If there isn't enough information below, say you don't know. Do not generate answers that don't use the sources below. If asking a clarifying question to the user would help, ask the question. \n",
    "Each source has a name followed by colon and the actual information, always include the source name for each fact you use in the response. Use square brackets to reference the source, e.g. [info1.txt]. Don't combine sources, list each source separately, e.g. [info1.txt][info2.pdf].\n",
    "\n",
    "Sources:\n",
    "{sources}\n",
    "\n",
    "<|im_end|>\"\"\"\n",
    "\n",
    "turn_prefix = \"\"\"\n",
    "<|im_start|>user\n",
    "\"\"\"\n",
    "\n",
    "turn_suffix = \"\"\"\n",
    "<|im_end|>\n",
    "<|im_start|>assistant\n",
    "\"\"\"\n",
    "\n",
    "prompt_history = turn_prefix\n",
    "\n",
    "history = []\n",
    "\n",
    "summary_prompt_template = \"\"\"Below is a summary of the conversation so far, and a new question asked by the user that needs to be answered by searching in a knowledge base. Generate a search query based on the conversation and the new question. Source names are not good search terms to include in the search query.\n",
    "\n",
    "Summary:\n",
    "{summary}\n",
    "\n",
    "Question:\n",
    "{question}\n",
    "\n",
    "Search query:\n",
    "\"\"\""
   ]
  },
  {
   "cell_type": "code",
   "execution_count": 9,
   "metadata": {},
   "outputs": [
    {
     "name": "stdout",
     "output_type": "stream",
     "text": [
      "Searching: What is the capital of Germany?\n",
      "-------------------\n",
      "<iterator object azure.core.paging.ItemPaged at 0x1c14df20370>\n"
     ]
    },
    {
     "ename": "ClientAuthenticationError",
     "evalue": "Operation returned an invalid status 'Unauthorized'",
     "output_type": "error",
     "traceback": [
      "\u001b[1;31m---------------------------------------------------------------------------\u001b[0m",
      "\u001b[1;31mClientAuthenticationError\u001b[0m                 Traceback (most recent call last)",
      "\u001b[1;32mc:\\Users\\khushboo.x.sharma\\Documents\\Visual Studio 2022\\azure-search-openai-demo\\notebooks\\chat-read-retrieve-read.ipynb Cell 3\u001b[0m in \u001b[0;36m<cell line: 29>\u001b[1;34m()\u001b[0m\n\u001b[0;32m     <a href='vscode-notebook-cell:/c%3A/Users/khushboo.x.sharma/Documents/Visual%20Studio%202022/azure-search-openai-demo/notebooks/chat-read-retrieve-read.ipynb#W2sZmlsZQ%3D%3D?line=20'>21</a>\u001b[0m r \u001b[39m=\u001b[39m search_client\u001b[39m.\u001b[39msearch(search, \n\u001b[0;32m     <a href='vscode-notebook-cell:/c%3A/Users/khushboo.x.sharma/Documents/Visual%20Studio%202022/azure-search-openai-demo/notebooks/chat-read-retrieve-read.ipynb#W2sZmlsZQ%3D%3D?line=21'>22</a>\u001b[0m                          \u001b[39mfilter\u001b[39m\u001b[39m=\u001b[39m\u001b[39mfilter\u001b[39m,\n\u001b[0;32m     <a href='vscode-notebook-cell:/c%3A/Users/khushboo.x.sharma/Documents/Visual%20Studio%202022/azure-search-openai-demo/notebooks/chat-read-retrieve-read.ipynb#W2sZmlsZQ%3D%3D?line=22'>23</a>\u001b[0m                          query_type\u001b[39m=\u001b[39mQueryType\u001b[39m.\u001b[39mSEMANTIC, \n\u001b[1;32m   (...)\u001b[0m\n\u001b[0;32m     <a href='vscode-notebook-cell:/c%3A/Users/khushboo.x.sharma/Documents/Visual%20Studio%202022/azure-search-openai-demo/notebooks/chat-read-retrieve-read.ipynb#W2sZmlsZQ%3D%3D?line=25'>26</a>\u001b[0m                          semantic_configuration_name\u001b[39m=\u001b[39m\u001b[39m\"\u001b[39m\u001b[39mdefault\u001b[39m\u001b[39m\"\u001b[39m, \n\u001b[0;32m     <a href='vscode-notebook-cell:/c%3A/Users/khushboo.x.sharma/Documents/Visual%20Studio%202022/azure-search-openai-demo/notebooks/chat-read-retrieve-read.ipynb#W2sZmlsZQ%3D%3D?line=26'>27</a>\u001b[0m                          top\u001b[39m=\u001b[39m\u001b[39m3\u001b[39m)\n\u001b[0;32m     <a href='vscode-notebook-cell:/c%3A/Users/khushboo.x.sharma/Documents/Visual%20Studio%202022/azure-search-openai-demo/notebooks/chat-read-retrieve-read.ipynb#W2sZmlsZQ%3D%3D?line=27'>28</a>\u001b[0m \u001b[39mprint\u001b[39m (r)\n\u001b[1;32m---> <a href='vscode-notebook-cell:/c%3A/Users/khushboo.x.sharma/Documents/Visual%20Studio%202022/azure-search-openai-demo/notebooks/chat-read-retrieve-read.ipynb#W2sZmlsZQ%3D%3D?line=28'>29</a>\u001b[0m results \u001b[39m=\u001b[39m [doc[KB_FIELDS_SOURCEPAGE] \u001b[39m+\u001b[39m \u001b[39m\"\u001b[39m\u001b[39m: \u001b[39m\u001b[39m\"\u001b[39m \u001b[39m+\u001b[39m doc[KB_FIELDS_CONTENT]\u001b[39m.\u001b[39mreplace(\u001b[39m\"\u001b[39m\u001b[39m\\n\u001b[39;00m\u001b[39m\"\u001b[39m, \u001b[39m\"\u001b[39m\u001b[39m\"\u001b[39m)\u001b[39m.\u001b[39mreplace(\u001b[39m\"\u001b[39m\u001b[39m\\r\u001b[39;00m\u001b[39m\"\u001b[39m, \u001b[39m\"\u001b[39m\u001b[39m\"\u001b[39m) \u001b[39mfor\u001b[39;00m doc \u001b[39min\u001b[39;00m r]\n\u001b[0;32m     <a href='vscode-notebook-cell:/c%3A/Users/khushboo.x.sharma/Documents/Visual%20Studio%202022/azure-search-openai-demo/notebooks/chat-read-retrieve-read.ipynb#W2sZmlsZQ%3D%3D?line=29'>30</a>\u001b[0m content \u001b[39m=\u001b[39m \u001b[39m\"\u001b[39m\u001b[39m\\n\u001b[39;00m\u001b[39m\"\u001b[39m\u001b[39m.\u001b[39mjoin(results)\n\u001b[0;32m     <a href='vscode-notebook-cell:/c%3A/Users/khushboo.x.sharma/Documents/Visual%20Studio%202022/azure-search-openai-demo/notebooks/chat-read-retrieve-read.ipynb#W2sZmlsZQ%3D%3D?line=31'>32</a>\u001b[0m prompt \u001b[39m=\u001b[39m prompt_prefix\u001b[39m.\u001b[39mformat(sources\u001b[39m=\u001b[39mcontent) \u001b[39m+\u001b[39m prompt_history \u001b[39m+\u001b[39m user_input \u001b[39m+\u001b[39m turn_suffix\n",
      "\u001b[1;32mc:\\Users\\khushboo.x.sharma\\Documents\\Visual Studio 2022\\azure-search-openai-demo\\notebooks\\chat-read-retrieve-read.ipynb Cell 3\u001b[0m in \u001b[0;36m<listcomp>\u001b[1;34m(.0)\u001b[0m\n\u001b[0;32m     <a href='vscode-notebook-cell:/c%3A/Users/khushboo.x.sharma/Documents/Visual%20Studio%202022/azure-search-openai-demo/notebooks/chat-read-retrieve-read.ipynb#W2sZmlsZQ%3D%3D?line=20'>21</a>\u001b[0m r \u001b[39m=\u001b[39m search_client\u001b[39m.\u001b[39msearch(search, \n\u001b[0;32m     <a href='vscode-notebook-cell:/c%3A/Users/khushboo.x.sharma/Documents/Visual%20Studio%202022/azure-search-openai-demo/notebooks/chat-read-retrieve-read.ipynb#W2sZmlsZQ%3D%3D?line=21'>22</a>\u001b[0m                          \u001b[39mfilter\u001b[39m\u001b[39m=\u001b[39m\u001b[39mfilter\u001b[39m,\n\u001b[0;32m     <a href='vscode-notebook-cell:/c%3A/Users/khushboo.x.sharma/Documents/Visual%20Studio%202022/azure-search-openai-demo/notebooks/chat-read-retrieve-read.ipynb#W2sZmlsZQ%3D%3D?line=22'>23</a>\u001b[0m                          query_type\u001b[39m=\u001b[39mQueryType\u001b[39m.\u001b[39mSEMANTIC, \n\u001b[1;32m   (...)\u001b[0m\n\u001b[0;32m     <a href='vscode-notebook-cell:/c%3A/Users/khushboo.x.sharma/Documents/Visual%20Studio%202022/azure-search-openai-demo/notebooks/chat-read-retrieve-read.ipynb#W2sZmlsZQ%3D%3D?line=25'>26</a>\u001b[0m                          semantic_configuration_name\u001b[39m=\u001b[39m\u001b[39m\"\u001b[39m\u001b[39mdefault\u001b[39m\u001b[39m\"\u001b[39m, \n\u001b[0;32m     <a href='vscode-notebook-cell:/c%3A/Users/khushboo.x.sharma/Documents/Visual%20Studio%202022/azure-search-openai-demo/notebooks/chat-read-retrieve-read.ipynb#W2sZmlsZQ%3D%3D?line=26'>27</a>\u001b[0m                          top\u001b[39m=\u001b[39m\u001b[39m3\u001b[39m)\n\u001b[0;32m     <a href='vscode-notebook-cell:/c%3A/Users/khushboo.x.sharma/Documents/Visual%20Studio%202022/azure-search-openai-demo/notebooks/chat-read-retrieve-read.ipynb#W2sZmlsZQ%3D%3D?line=27'>28</a>\u001b[0m \u001b[39mprint\u001b[39m (r)\n\u001b[1;32m---> <a href='vscode-notebook-cell:/c%3A/Users/khushboo.x.sharma/Documents/Visual%20Studio%202022/azure-search-openai-demo/notebooks/chat-read-retrieve-read.ipynb#W2sZmlsZQ%3D%3D?line=28'>29</a>\u001b[0m results \u001b[39m=\u001b[39m [doc[KB_FIELDS_SOURCEPAGE] \u001b[39m+\u001b[39m \u001b[39m\"\u001b[39m\u001b[39m: \u001b[39m\u001b[39m\"\u001b[39m \u001b[39m+\u001b[39m doc[KB_FIELDS_CONTENT]\u001b[39m.\u001b[39mreplace(\u001b[39m\"\u001b[39m\u001b[39m\\n\u001b[39;00m\u001b[39m\"\u001b[39m, \u001b[39m\"\u001b[39m\u001b[39m\"\u001b[39m)\u001b[39m.\u001b[39mreplace(\u001b[39m\"\u001b[39m\u001b[39m\\r\u001b[39;00m\u001b[39m\"\u001b[39m, \u001b[39m\"\u001b[39m\u001b[39m\"\u001b[39m) \u001b[39mfor\u001b[39;00m doc \u001b[39min\u001b[39;00m r]\n\u001b[0;32m     <a href='vscode-notebook-cell:/c%3A/Users/khushboo.x.sharma/Documents/Visual%20Studio%202022/azure-search-openai-demo/notebooks/chat-read-retrieve-read.ipynb#W2sZmlsZQ%3D%3D?line=29'>30</a>\u001b[0m content \u001b[39m=\u001b[39m \u001b[39m\"\u001b[39m\u001b[39m\\n\u001b[39;00m\u001b[39m\"\u001b[39m\u001b[39m.\u001b[39mjoin(results)\n\u001b[0;32m     <a href='vscode-notebook-cell:/c%3A/Users/khushboo.x.sharma/Documents/Visual%20Studio%202022/azure-search-openai-demo/notebooks/chat-read-retrieve-read.ipynb#W2sZmlsZQ%3D%3D?line=31'>32</a>\u001b[0m prompt \u001b[39m=\u001b[39m prompt_prefix\u001b[39m.\u001b[39mformat(sources\u001b[39m=\u001b[39mcontent) \u001b[39m+\u001b[39m prompt_history \u001b[39m+\u001b[39m user_input \u001b[39m+\u001b[39m turn_suffix\n",
      "File \u001b[1;32mc:\\Users\\khushboo.x.sharma\\AppData\\Local\\Programs\\Python\\Python310\\lib\\site-packages\\azure\\search\\documents\\_paging.py:54\u001b[0m, in \u001b[0;36mSearchItemPaged.__next__\u001b[1;34m(self)\u001b[0m\n\u001b[0;32m     52\u001b[0m     first_iterator \u001b[39m=\u001b[39m \u001b[39mself\u001b[39m\u001b[39m.\u001b[39m_first_iterator_instance()\n\u001b[0;32m     53\u001b[0m     \u001b[39mself\u001b[39m\u001b[39m.\u001b[39m_page_iterator \u001b[39m=\u001b[39m itertools\u001b[39m.\u001b[39mchain\u001b[39m.\u001b[39mfrom_iterable(first_iterator)\n\u001b[1;32m---> 54\u001b[0m \u001b[39mreturn\u001b[39;00m \u001b[39mnext\u001b[39;49m(\u001b[39mself\u001b[39;49m\u001b[39m.\u001b[39;49m_page_iterator)\n",
      "File \u001b[1;32mc:\\Users\\khushboo.x.sharma\\AppData\\Local\\Programs\\Python\\Python310\\lib\\site-packages\\azure\\core\\paging.py:76\u001b[0m, in \u001b[0;36mPageIterator.__next__\u001b[1;34m(self)\u001b[0m\n\u001b[0;32m     74\u001b[0m     \u001b[39mraise\u001b[39;00m \u001b[39mStopIteration\u001b[39;00m(\u001b[39m\"\u001b[39m\u001b[39mEnd of paging\u001b[39m\u001b[39m\"\u001b[39m)\n\u001b[0;32m     75\u001b[0m \u001b[39mtry\u001b[39;00m:\n\u001b[1;32m---> 76\u001b[0m     \u001b[39mself\u001b[39m\u001b[39m.\u001b[39m_response \u001b[39m=\u001b[39m \u001b[39mself\u001b[39;49m\u001b[39m.\u001b[39;49m_get_next(\u001b[39mself\u001b[39;49m\u001b[39m.\u001b[39;49mcontinuation_token)\n\u001b[0;32m     77\u001b[0m \u001b[39mexcept\u001b[39;00m AzureError \u001b[39mas\u001b[39;00m error:\n\u001b[0;32m     78\u001b[0m     \u001b[39mif\u001b[39;00m \u001b[39mnot\u001b[39;00m error\u001b[39m.\u001b[39mcontinuation_token:\n",
      "File \u001b[1;32mc:\\Users\\khushboo.x.sharma\\AppData\\Local\\Programs\\Python\\Python310\\lib\\site-packages\\azure\\search\\documents\\_paging.py:114\u001b[0m, in \u001b[0;36mSearchPageIterator._get_next_cb\u001b[1;34m(self, continuation_token)\u001b[0m\n\u001b[0;32m    112\u001b[0m \u001b[39mdef\u001b[39;00m \u001b[39m_get_next_cb\u001b[39m(\u001b[39mself\u001b[39m, continuation_token):\n\u001b[0;32m    113\u001b[0m     \u001b[39mif\u001b[39;00m continuation_token \u001b[39mis\u001b[39;00m \u001b[39mNone\u001b[39;00m:\n\u001b[1;32m--> 114\u001b[0m         \u001b[39mreturn\u001b[39;00m \u001b[39mself\u001b[39m\u001b[39m.\u001b[39m_client\u001b[39m.\u001b[39mdocuments\u001b[39m.\u001b[39msearch_post(\n\u001b[0;32m    115\u001b[0m             search_request\u001b[39m=\u001b[39m\u001b[39mself\u001b[39m\u001b[39m.\u001b[39m_initial_query\u001b[39m.\u001b[39mrequest, \u001b[39m*\u001b[39m\u001b[39m*\u001b[39m\u001b[39mself\u001b[39m\u001b[39m.\u001b[39m_kwargs\n\u001b[0;32m    116\u001b[0m         )\n\u001b[0;32m    118\u001b[0m     _next_link, next_page_request \u001b[39m=\u001b[39m unpack_continuation_token(continuation_token)\n\u001b[0;32m    120\u001b[0m     \u001b[39mreturn\u001b[39;00m \u001b[39mself\u001b[39m\u001b[39m.\u001b[39m_client\u001b[39m.\u001b[39mdocuments\u001b[39m.\u001b[39msearch_post(\n\u001b[0;32m    121\u001b[0m         search_request\u001b[39m=\u001b[39mnext_page_request, \u001b[39m*\u001b[39m\u001b[39m*\u001b[39m\u001b[39mself\u001b[39m\u001b[39m.\u001b[39m_kwargs\n\u001b[0;32m    122\u001b[0m     )\n",
      "File \u001b[1;32mc:\\Users\\khushboo.x.sharma\\AppData\\Local\\Programs\\Python\\Python310\\lib\\site-packages\\azure\\core\\tracing\\decorator.py:76\u001b[0m, in \u001b[0;36mdistributed_trace.<locals>.decorator.<locals>.wrapper_use_tracer\u001b[1;34m(*args, **kwargs)\u001b[0m\n\u001b[0;32m     74\u001b[0m span_impl_type \u001b[39m=\u001b[39m settings\u001b[39m.\u001b[39mtracing_implementation()\n\u001b[0;32m     75\u001b[0m \u001b[39mif\u001b[39;00m span_impl_type \u001b[39mis\u001b[39;00m \u001b[39mNone\u001b[39;00m:\n\u001b[1;32m---> 76\u001b[0m     \u001b[39mreturn\u001b[39;00m func(\u001b[39m*\u001b[39margs, \u001b[39m*\u001b[39m\u001b[39m*\u001b[39mkwargs)\n\u001b[0;32m     78\u001b[0m \u001b[39m# Merge span is parameter is set, but only if no explicit parent are passed\u001b[39;00m\n\u001b[0;32m     79\u001b[0m \u001b[39mif\u001b[39;00m merge_span \u001b[39mand\u001b[39;00m \u001b[39mnot\u001b[39;00m passed_in_parent:\n",
      "File \u001b[1;32mc:\\Users\\khushboo.x.sharma\\AppData\\Local\\Programs\\Python\\Python310\\lib\\site-packages\\azure\\search\\documents\\_generated\\operations\\_documents_operations.py:780\u001b[0m, in \u001b[0;36mDocumentsOperations.search_post\u001b[1;34m(self, search_request, request_options, **kwargs)\u001b[0m\n\u001b[0;32m    777\u001b[0m response \u001b[39m=\u001b[39m pipeline_response\u001b[39m.\u001b[39mhttp_response\n\u001b[0;32m    779\u001b[0m \u001b[39mif\u001b[39;00m response\u001b[39m.\u001b[39mstatus_code \u001b[39mnot\u001b[39;00m \u001b[39min\u001b[39;00m [\u001b[39m200\u001b[39m]:\n\u001b[1;32m--> 780\u001b[0m     map_error(status_code\u001b[39m=\u001b[39;49mresponse\u001b[39m.\u001b[39;49mstatus_code, response\u001b[39m=\u001b[39;49mresponse, error_map\u001b[39m=\u001b[39;49merror_map)\n\u001b[0;32m    781\u001b[0m     error \u001b[39m=\u001b[39m \u001b[39mself\u001b[39m\u001b[39m.\u001b[39m_deserialize\u001b[39m.\u001b[39mfailsafe_deserialize(_models\u001b[39m.\u001b[39mSearchError, pipeline_response)\n\u001b[0;32m    782\u001b[0m     \u001b[39mraise\u001b[39;00m HttpResponseError(response\u001b[39m=\u001b[39mresponse, model\u001b[39m=\u001b[39merror)\n",
      "File \u001b[1;32mc:\\Users\\khushboo.x.sharma\\AppData\\Local\\Programs\\Python\\Python310\\lib\\site-packages\\azure\\core\\exceptions.py:109\u001b[0m, in \u001b[0;36mmap_error\u001b[1;34m(status_code, response, error_map)\u001b[0m\n\u001b[0;32m    107\u001b[0m     \u001b[39mreturn\u001b[39;00m\n\u001b[0;32m    108\u001b[0m error \u001b[39m=\u001b[39m error_type(response\u001b[39m=\u001b[39mresponse)\n\u001b[1;32m--> 109\u001b[0m \u001b[39mraise\u001b[39;00m error\n",
      "\u001b[1;31mClientAuthenticationError\u001b[0m: Operation returned an invalid status 'Unauthorized'"
     ]
    }
   ],
   "source": [
    "# Execute this cell multiple times updating user_input to accumulate chat history\n",
    "user_input = \"What is the capital of Germany?\"\n",
    "\n",
    "# Exclude category, to simulate scenarios where there's a set of docs you can't see\n",
    "exclude_category = None\n",
    "\n",
    "if len(history) > 0:\n",
    "    completion = openai.Completion.create(\n",
    "        prompt = prompt ,\n",
    "        max_tokens = 10,\n",
    "        temperature = 0.5,\n",
    "        engine=deployment_name)\n",
    "    search = completion.choices[0].text\n",
    "else:\n",
    "    search = user_input\n",
    "\n",
    "# Alternatively simply use search_client.search(q, top=3) if not using semantic search\n",
    "print(\"Searching:\", search)\n",
    "print(\"-------------------\")\n",
    "filter = \"category ne '{}'\".format(exclude_category.replace(\"'\", \"''\")) if exclude_category else None\n",
    "r = search_client.search(search, \n",
    "                         filter=filter,\n",
    "                         query_type=QueryType.SEMANTIC, \n",
    "                         query_language=\"en-us\", \n",
    "                         query_speller=\"lexicon\", \n",
    "                         semantic_configuration_name=\"default\", \n",
    "                         top=3)\n",
    "print (r)\n",
    "results = [doc[KB_FIELDS_SOURCEPAGE] + \": \" + doc[KB_FIELDS_CONTENT].replace(\"\\n\", \"\").replace(\"\\r\", \"\") for doc in r]\n",
    "content = \"\\n\".join(results)\n",
    "\n",
    "prompt = prompt_prefix.format(sources=content) + prompt_history + user_input + turn_suffix\n",
    "\n",
    "completion = openai.Completion.create(\n",
    "    prompt = prompt ,\n",
    "    max_tokens = 1024,\n",
    "    temperature = 0.7,\n",
    "    engine=deployment_name,\n",
    "    stop=[\"<|im_end|>\", \"<|im_start|>\"])\n",
    "\n",
    "prompt_history += user_input + turn_suffix + completion.choices[0].text + \"\\n<|im_end|>\" + turn_prefix\n",
    "history.append(\"user: \" + user_input)\n",
    "history.append(\"assistant: \" + completion.choices[0].text)\n",
    "\n",
    "print(\"\\n-------------------\\n\".join(history))\n",
    "print(\"\\n-------------------\\nPrompt:\\n\" + prompt)"
   ]
  },
  {
   "cell_type": "code",
   "execution_count": 44,
   "metadata": {},
   "outputs": [
    {
     "name": "stdout",
     "output_type": "stream",
     "text": [
      "{\n",
      "  \"choices\": [\n",
      "    {\n",
      "      \"finish_reason\": \"length\",\n",
      "      \"index\": 0,\n",
      "      \"logprobs\": null,\n",
      "      \"text\": \"\\\",\\\"Berlin\\\", \\\"Hamburg\\\", \\\"Mun\"\n",
      "    }\n",
      "  ],\n",
      "  \"created\": 1686153874,\n",
      "  \"id\": \"cmpl-7OpwACoPNYlxy8gV1Ak4CUXkCi5Ja\",\n",
      "  \"model\": \"gpt-35-turbo\",\n",
      "  \"object\": \"text_completion\",\n",
      "  \"usage\": {\n",
      "    \"completion_tokens\": 10,\n",
      "    \"prompt_tokens\": 7,\n",
      "    \"total_tokens\": 17\n",
      "  }\n",
      "}\n"
     ]
    }
   ],
   "source": [
    "print(completion)"
   ]
  },
  {
   "cell_type": "code",
   "execution_count": null,
   "metadata": {},
   "outputs": [],
   "source": []
  }
 ],
 "metadata": {
  "kernelspec": {
   "display_name": "Python 3",
   "language": "python",
   "name": "python3"
  },
  "language_info": {
   "codemirror_mode": {
    "name": "ipython",
    "version": 3
   },
   "file_extension": ".py",
   "mimetype": "text/x-python",
   "name": "python",
   "nbconvert_exporter": "python",
   "pygments_lexer": "ipython3",
   "version": "3.10.7"
  },
  "orig_nbformat": 4,
  "vscode": {
   "interpreter": {
    "hash": "c40b9fc8dfc687e53ddb074d322e19207ef9cf3db51c580aef67976913dea803"
   }
  }
 },
 "nbformat": 4,
 "nbformat_minor": 2
}
